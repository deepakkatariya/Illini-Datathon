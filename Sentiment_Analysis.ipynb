{
  "nbformat": 4,
  "nbformat_minor": 0,
  "metadata": {
    "colab": {
      "name": "Sentiment Analysis.ipynb",
      "version": "0.3.2",
      "provenance": [],
      "collapsed_sections": []
    },
    "kernelspec": {
      "name": "python3",
      "display_name": "Python 3"
    }
  },
  "cells": [
    {
      "metadata": {
        "id": "Xfzg4l8YRO-p",
        "colab_type": "code",
        "colab": {}
      },
      "cell_type": "code",
      "source": [
        ""
      ],
      "execution_count": 0,
      "outputs": []
    },
    {
      "metadata": {
        "id": "CqpwqSruu1Y6",
        "colab_type": "code",
        "outputId": "dec5c037-8525-4107-e845-86ae61965d72",
        "colab": {
          "base_uri": "https://localhost:8080/",
          "height": 74
        }
      },
      "cell_type": "code",
      "source": [
        "import nltk\n",
        "from nltk.sentiment.vader import SentimentIntensityAnalyzer\n",
        "# nltk.download('vader_lexicon')\n",
        "#nltk.download('punkt')\n",
        "import panda \n",
        "\n",
        "\n",
        "#3M\n",
        "transcripts = []\n",
        "for i in range(1, 5):\n",
        "  for j in range(2009, 2019):\n",
        "    with open('3M {year} Q{num}.txt'.format(year=j, num=i), 'r', encoding ='iso-8859-1') as f:\n",
        "      transcripts.append(f.read())\n",
        "\n",
        "sid = SentimentIntensityAnalyzer()\n",
        "sent_scores = []\n",
        "for transcript in transcripts:\n",
        "  score = []\n",
        "  for sent in nltk.sent_tokenize(transcript):\n",
        "    score.append(sid.polarity_scores(sent)['compound'])\n",
        "  \n",
        "  sent_scores.append(sum(score)/ len(score))\n",
        "\n",
        "print(sent_scores)\n",
        "  #synchrony\n",
        "# transcripts = []\n",
        "# for i in range(1, 5):\n",
        "#   for j in range(2015, 2019):\n",
        "#     with open('Synchrony {year} Q{num}.txt'.format(year=j, num=i), 'r', encoding ='iso-8859-1') as f:\n",
        "#       transcripts.append(f.read())\n",
        "\n",
        "# sid = SentimentIntensityAnalyzer()\n",
        "# for transcript in transcripts:\n",
        "#   score = []\n",
        "#   min = 1.0\n",
        "#   for sent in nltk.sent_tokenize(transcript):\n",
        "#     num = sid.polarity_scores(sent)['compound']\n",
        "# #     if num < min:\n",
        "# #       min = num\n",
        "# #   print(min)\n",
        "#     score.append(sid.polarity_scores(sent)['compound'])\n",
        "#   print(sum(score)/ len(score))\n",
        "    \n",
        "\n",
        "      \n",
        " "
      ],
      "execution_count": 58,
      "outputs": [
        {
          "output_type": "stream",
          "text": [
            "[0.184636, 0.264634375, 0.29864999999999997, 0.2745555555555556, 0.3816333333333333, 0.3110275862068966, 0.3102393939393939, 0.3678516129032258, 0.29337941176470594, 0.31533928571428577, 0.2790925925925926, 0.3107483870967742, 0.2223551724137931, 0.187265625, 0.3049678571428571, 0.29565882352941175, 0.34262000000000004, 0.3031222222222223, 0.33759999999999996, 0.3472857142857143, 0.3049217391304348, 0.2851000000000001, 0.15221562500000002, 0.23267241379310347, 0.33781379310344833, 0.35916363636363635, 0.314875, 0.36349999999999993, 0.3376617647058824, 0.2182, 0.3195484848484848, 0.4268666666666667, 0.2699, 0.24938518518518518, 0.3132103448275862, 0.35459375000000004, 0.20309230769230774, 0.3459928571428571, 0.28973103448275866, 0.3033724137931034]\n"
          ],
          "name": "stdout"
        }
      ]
    },
    {
      "metadata": {
        "id": "Plv_B1Hnyd8H",
        "colab_type": "code",
        "colab": {
          "base_uri": "https://localhost:8080/",
          "height": 721
        },
        "outputId": "ca5deea4-d57e-4c72-b080-647f28f2be0e"
      },
      "cell_type": "code",
      "source": [
        "import matplotlib.pyplot as plt\n",
        "\n",
        "plt.hist(sent_scores, bins=20, range=(-1, 1), rwidth=0.9)\n",
        "plt.xticks(list([0.1*x for x in range(-10, 11)]))\n"
      ],
      "execution_count": 73,
      "outputs": [
        {
          "output_type": "execute_result",
          "data": {
            "text/plain": [
              "([<matplotlib.axis.XTick at 0x7f7ce2082ba8>,\n",
              "  <matplotlib.axis.XTick at 0x7f7ce2082588>,\n",
              "  <matplotlib.axis.XTick at 0x7f7ce20822b0>,\n",
              "  <matplotlib.axis.XTick at 0x7f7ce2048cf8>,\n",
              "  <matplotlib.axis.XTick at 0x7f7ce1ffb630>,\n",
              "  <matplotlib.axis.XTick at 0x7f7ce1ffbb38>,\n",
              "  <matplotlib.axis.XTick at 0x7f7ce1ffb978>,\n",
              "  <matplotlib.axis.XTick at 0x7f7ce20045f8>,\n",
              "  <matplotlib.axis.XTick at 0x7f7ce1ffb550>,\n",
              "  <matplotlib.axis.XTick at 0x7f7ce20047b8>,\n",
              "  <matplotlib.axis.XTick at 0x7f7ce2004f28>,\n",
              "  <matplotlib.axis.XTick at 0x7f7ce200c4a8>,\n",
              "  <matplotlib.axis.XTick at 0x7f7ce200c9e8>,\n",
              "  <matplotlib.axis.XTick at 0x7f7ce200cf28>,\n",
              "  <matplotlib.axis.XTick at 0x7f7ce20124a8>,\n",
              "  <matplotlib.axis.XTick at 0x7f7ce20129e8>,\n",
              "  <matplotlib.axis.XTick at 0x7f7ce2012f28>,\n",
              "  <matplotlib.axis.XTick at 0x7f7ce20125f8>,\n",
              "  <matplotlib.axis.XTick at 0x7f7ce200c5f8>,\n",
              "  <matplotlib.axis.XTick at 0x7f7ce200ce48>,\n",
              "  <matplotlib.axis.XTick at 0x7f7ce1f9b9e8>],\n",
              " <a list of 21 Text xticklabel objects>)"
            ]
          },
          "metadata": {
            "tags": []
          },
          "execution_count": 73
        },
        {
          "output_type": "display_data",
          "data": {
            "image/png": "[encoded data removed]",
            "text/plain": [
              "<Figure size 576x396 with 1 Axes>"
            ]
          },
          "metadata": {
            "tags": []
          }
        }
      ]
    },
    {
      "metadata": {
        "id": "fNLJpPgE0B4T",
        "colab_type": "code",
        "colab": {}
      },
      "cell_type": "code",
      "source": [
        ""
      ],
      "execution_count": 0,
      "outputs": []
    }
  ]
}